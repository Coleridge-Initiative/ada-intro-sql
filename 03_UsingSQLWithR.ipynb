{
 "cells": [
  {
   "cell_type": "markdown",
   "metadata": {},
   "source": [
    "# R Workbook 3: Using R with SQL\n",
    "\n",
    "In this notebook, we provide a short demonstrate of how you might use R and SQL together. Generally, you want to store and handle data using SQL, but do more sophisticated analyses in R. To utilize the benefits of both, we might start exploring and getting basic summaries using SQL (using something like DBeaver, for example), but move to R once you decide what subset you want to work with. This notebook provides the background of how that interface might happen.\n",
    "\n",
    "We'll start by bringing in packages as usual. We use the typical `tidyverse` suite of packages, as well as the `DBI` and `RSQLite` packages. These last two are used to connect to the database. In our example, we will use an SQLite database, but for different databases, you might use a different package (such as `RPostgreSQL` for PostgreSQL databases)."
   ]
  },
  {
   "cell_type": "code",
   "execution_count": 8,
   "metadata": {},
   "outputs": [],
   "source": [
    "# Tidyverse includes dbplyr\n",
    "library(tidyverse)\n",
    "\n",
    "# For connection to SQL\n",
    "library(DBI)\n",
    "library(RSQLite)"
   ]
  },
  {
   "cell_type": "markdown",
   "metadata": {},
   "source": [
    "## Creating a Connection\n",
    "\n",
    "The first step we take is to create a connection to the database. In our example, we've included an SQLite database called `lodes.db` containing some of the data, so we'll use that to connect to. In general, you may need to specify more than what we've included, depending on, for example, if there's certain permissions set on accessing the database."
   ]
  },
  {
   "cell_type": "code",
   "execution_count": 9,
   "metadata": {},
   "outputs": [],
   "source": [
    "con <- dbConnect(SQLite(), dbname = \"lodes.db\")"
   ]
  },
  {
   "cell_type": "markdown",
   "metadata": {},
   "source": [
    "If we were to use a different flavor of SQL (such as PostgreSQL), then we would create our connection to the database slightly differently. For example, we could use the `RPostgreSQL` package instead of `RSQLite`. After you create the connection, though, everything afterwards is the same -- you can use that connection to write SQL code to do all the same things such as bringing in a table as a DataFrame."
   ]
  },
  {
   "cell_type": "markdown",
   "metadata": {},
   "source": [
    "## Running Queries\n",
    "\n",
    "There are two main ways of running SQL queries from R that we'll go over. They are:\n",
    "\n",
    "- Running queries directly using the exact SQL code with the `dbGetQuery` function.\n",
    "- Using `dbplyr` from `tidyverse` to run queries with `dplyr` syntax.\n",
    "\n",
    "We'll start with the first one."
   ]
  },
  {
   "cell_type": "markdown",
   "metadata": {},
   "source": [
    "### Using `dbGetQuery`\n",
    "\n",
    "You can run queries using the `dbGetQuery` function. This takes in as arguments the connection (which we created above as `con`), as well as a character string for the query. "
   ]
  },
  {
   "cell_type": "code",
   "execution_count": 12,
   "metadata": {},
   "outputs": [
    {
     "data": {
      "text/html": [
       "<table>\n",
       "<caption>A data.frame: 10 × 53</caption>\n",
       "<thead>\n",
       "\t<tr><th scope=col>w_geocode</th><th scope=col>c000</th><th scope=col>ca01</th><th scope=col>ca02</th><th scope=col>ca03</th><th scope=col>ce01</th><th scope=col>ce02</th><th scope=col>ce03</th><th scope=col>cns01</th><th scope=col>cns02</th><th scope=col>⋯</th><th scope=col>cfa02</th><th scope=col>cfa03</th><th scope=col>cfa04</th><th scope=col>cfa05</th><th scope=col>cfs01</th><th scope=col>cfs02</th><th scope=col>cfs03</th><th scope=col>cfs04</th><th scope=col>cfs05</th><th scope=col>createdate</th></tr>\n",
       "\t<tr><th scope=col>&lt;chr&gt;</th><th scope=col>&lt;int&gt;</th><th scope=col>&lt;int&gt;</th><th scope=col>&lt;int&gt;</th><th scope=col>&lt;int&gt;</th><th scope=col>&lt;int&gt;</th><th scope=col>&lt;int&gt;</th><th scope=col>&lt;int&gt;</th><th scope=col>&lt;int&gt;</th><th scope=col>&lt;int&gt;</th><th scope=col>⋯</th><th scope=col>&lt;int&gt;</th><th scope=col>&lt;int&gt;</th><th scope=col>&lt;int&gt;</th><th scope=col>&lt;int&gt;</th><th scope=col>&lt;int&gt;</th><th scope=col>&lt;int&gt;</th><th scope=col>&lt;int&gt;</th><th scope=col>&lt;int&gt;</th><th scope=col>&lt;int&gt;</th><th scope=col>&lt;chr&gt;</th></tr>\n",
       "</thead>\n",
       "<tbody>\n",
       "\t<tr><td>060014001001007</td><td>30</td><td>2</td><td>16</td><td>12</td><td>4</td><td>2</td><td>24</td><td>0</td><td>0</td><td>⋯</td><td>0</td><td>0</td><td>0</td><td>0</td><td>0</td><td>0</td><td>0</td><td>0</td><td>0</td><td>20170919</td></tr>\n",
       "\t<tr><td>060014001001008</td><td> 4</td><td>0</td><td> 1</td><td> 3</td><td>0</td><td>0</td><td> 4</td><td>0</td><td>0</td><td>⋯</td><td>0</td><td>0</td><td>0</td><td>0</td><td>0</td><td>0</td><td>0</td><td>0</td><td>0</td><td>20170919</td></tr>\n",
       "\t<tr><td>060014001001011</td><td> 3</td><td>2</td><td> 1</td><td> 0</td><td>0</td><td>3</td><td> 0</td><td>0</td><td>0</td><td>⋯</td><td>0</td><td>0</td><td>0</td><td>0</td><td>0</td><td>0</td><td>0</td><td>0</td><td>0</td><td>20170919</td></tr>\n",
       "\t<tr><td>060014001001017</td><td>11</td><td>3</td><td> 3</td><td> 5</td><td>2</td><td>2</td><td> 7</td><td>0</td><td>0</td><td>⋯</td><td>0</td><td>0</td><td>0</td><td>0</td><td>0</td><td>0</td><td>0</td><td>0</td><td>0</td><td>20170919</td></tr>\n",
       "\t<tr><td>060014001001024</td><td>10</td><td>3</td><td> 3</td><td> 4</td><td>7</td><td>1</td><td> 2</td><td>0</td><td>0</td><td>⋯</td><td>0</td><td>0</td><td>0</td><td>0</td><td>0</td><td>0</td><td>0</td><td>0</td><td>0</td><td>20170919</td></tr>\n",
       "\t<tr><td>060014001001026</td><td> 3</td><td>0</td><td> 2</td><td> 1</td><td>0</td><td>2</td><td> 1</td><td>0</td><td>0</td><td>⋯</td><td>0</td><td>0</td><td>0</td><td>0</td><td>0</td><td>0</td><td>0</td><td>0</td><td>0</td><td>20170919</td></tr>\n",
       "\t<tr><td>060014001001027</td><td>13</td><td>3</td><td> 3</td><td> 7</td><td>4</td><td>5</td><td> 4</td><td>0</td><td>0</td><td>⋯</td><td>0</td><td>0</td><td>0</td><td>0</td><td>0</td><td>0</td><td>0</td><td>0</td><td>0</td><td>20170919</td></tr>\n",
       "\t<tr><td>060014001001032</td><td>13</td><td>2</td><td> 4</td><td> 7</td><td>3</td><td>2</td><td> 8</td><td>0</td><td>0</td><td>⋯</td><td>0</td><td>0</td><td>0</td><td>0</td><td>0</td><td>0</td><td>0</td><td>0</td><td>0</td><td>20170919</td></tr>\n",
       "\t<tr><td>060014001001033</td><td> 2</td><td>0</td><td> 0</td><td> 2</td><td>2</td><td>0</td><td> 0</td><td>0</td><td>0</td><td>⋯</td><td>0</td><td>0</td><td>0</td><td>0</td><td>0</td><td>0</td><td>0</td><td>0</td><td>0</td><td>20170919</td></tr>\n",
       "\t<tr><td>060014001001034</td><td> 1</td><td>0</td><td> 0</td><td> 1</td><td>1</td><td>0</td><td> 0</td><td>0</td><td>0</td><td>⋯</td><td>0</td><td>0</td><td>0</td><td>0</td><td>0</td><td>0</td><td>0</td><td>0</td><td>0</td><td>20170919</td></tr>\n",
       "</tbody>\n",
       "</table>\n"
      ],
      "text/latex": [
       "A data.frame: 10 × 53\n",
       "\\begin{tabular}{lllllllllllllllllllll}\n",
       " w\\_geocode & c000 & ca01 & ca02 & ca03 & ce01 & ce02 & ce03 & cns01 & cns02 & ⋯ & cfa02 & cfa03 & cfa04 & cfa05 & cfs01 & cfs02 & cfs03 & cfs04 & cfs05 & createdate\\\\\n",
       " <chr> & <int> & <int> & <int> & <int> & <int> & <int> & <int> & <int> & <int> & ⋯ & <int> & <int> & <int> & <int> & <int> & <int> & <int> & <int> & <int> & <chr>\\\\\n",
       "\\hline\n",
       "\t 060014001001007 & 30 & 2 & 16 & 12 & 4 & 2 & 24 & 0 & 0 & ⋯ & 0 & 0 & 0 & 0 & 0 & 0 & 0 & 0 & 0 & 20170919\\\\\n",
       "\t 060014001001008 &  4 & 0 &  1 &  3 & 0 & 0 &  4 & 0 & 0 & ⋯ & 0 & 0 & 0 & 0 & 0 & 0 & 0 & 0 & 0 & 20170919\\\\\n",
       "\t 060014001001011 &  3 & 2 &  1 &  0 & 0 & 3 &  0 & 0 & 0 & ⋯ & 0 & 0 & 0 & 0 & 0 & 0 & 0 & 0 & 0 & 20170919\\\\\n",
       "\t 060014001001017 & 11 & 3 &  3 &  5 & 2 & 2 &  7 & 0 & 0 & ⋯ & 0 & 0 & 0 & 0 & 0 & 0 & 0 & 0 & 0 & 20170919\\\\\n",
       "\t 060014001001024 & 10 & 3 &  3 &  4 & 7 & 1 &  2 & 0 & 0 & ⋯ & 0 & 0 & 0 & 0 & 0 & 0 & 0 & 0 & 0 & 20170919\\\\\n",
       "\t 060014001001026 &  3 & 0 &  2 &  1 & 0 & 2 &  1 & 0 & 0 & ⋯ & 0 & 0 & 0 & 0 & 0 & 0 & 0 & 0 & 0 & 20170919\\\\\n",
       "\t 060014001001027 & 13 & 3 &  3 &  7 & 4 & 5 &  4 & 0 & 0 & ⋯ & 0 & 0 & 0 & 0 & 0 & 0 & 0 & 0 & 0 & 20170919\\\\\n",
       "\t 060014001001032 & 13 & 2 &  4 &  7 & 3 & 2 &  8 & 0 & 0 & ⋯ & 0 & 0 & 0 & 0 & 0 & 0 & 0 & 0 & 0 & 20170919\\\\\n",
       "\t 060014001001033 &  2 & 0 &  0 &  2 & 2 & 0 &  0 & 0 & 0 & ⋯ & 0 & 0 & 0 & 0 & 0 & 0 & 0 & 0 & 0 & 20170919\\\\\n",
       "\t 060014001001034 &  1 & 0 &  0 &  1 & 1 & 0 &  0 & 0 & 0 & ⋯ & 0 & 0 & 0 & 0 & 0 & 0 & 0 & 0 & 0 & 20170919\\\\\n",
       "\\end{tabular}\n"
      ],
      "text/markdown": [
       "\n",
       "A data.frame: 10 × 53\n",
       "\n",
       "| w_geocode &lt;chr&gt; | c000 &lt;int&gt; | ca01 &lt;int&gt; | ca02 &lt;int&gt; | ca03 &lt;int&gt; | ce01 &lt;int&gt; | ce02 &lt;int&gt; | ce03 &lt;int&gt; | cns01 &lt;int&gt; | cns02 &lt;int&gt; | ⋯ ⋯ | cfa02 &lt;int&gt; | cfa03 &lt;int&gt; | cfa04 &lt;int&gt; | cfa05 &lt;int&gt; | cfs01 &lt;int&gt; | cfs02 &lt;int&gt; | cfs03 &lt;int&gt; | cfs04 &lt;int&gt; | cfs05 &lt;int&gt; | createdate &lt;chr&gt; |\n",
       "|---|---|---|---|---|---|---|---|---|---|---|---|---|---|---|---|---|---|---|---|---|\n",
       "| 060014001001007 | 30 | 2 | 16 | 12 | 4 | 2 | 24 | 0 | 0 | ⋯ | 0 | 0 | 0 | 0 | 0 | 0 | 0 | 0 | 0 | 20170919 |\n",
       "| 060014001001008 |  4 | 0 |  1 |  3 | 0 | 0 |  4 | 0 | 0 | ⋯ | 0 | 0 | 0 | 0 | 0 | 0 | 0 | 0 | 0 | 20170919 |\n",
       "| 060014001001011 |  3 | 2 |  1 |  0 | 0 | 3 |  0 | 0 | 0 | ⋯ | 0 | 0 | 0 | 0 | 0 | 0 | 0 | 0 | 0 | 20170919 |\n",
       "| 060014001001017 | 11 | 3 |  3 |  5 | 2 | 2 |  7 | 0 | 0 | ⋯ | 0 | 0 | 0 | 0 | 0 | 0 | 0 | 0 | 0 | 20170919 |\n",
       "| 060014001001024 | 10 | 3 |  3 |  4 | 7 | 1 |  2 | 0 | 0 | ⋯ | 0 | 0 | 0 | 0 | 0 | 0 | 0 | 0 | 0 | 20170919 |\n",
       "| 060014001001026 |  3 | 0 |  2 |  1 | 0 | 2 |  1 | 0 | 0 | ⋯ | 0 | 0 | 0 | 0 | 0 | 0 | 0 | 0 | 0 | 20170919 |\n",
       "| 060014001001027 | 13 | 3 |  3 |  7 | 4 | 5 |  4 | 0 | 0 | ⋯ | 0 | 0 | 0 | 0 | 0 | 0 | 0 | 0 | 0 | 20170919 |\n",
       "| 060014001001032 | 13 | 2 |  4 |  7 | 3 | 2 |  8 | 0 | 0 | ⋯ | 0 | 0 | 0 | 0 | 0 | 0 | 0 | 0 | 0 | 20170919 |\n",
       "| 060014001001033 |  2 | 0 |  0 |  2 | 2 | 0 |  0 | 0 | 0 | ⋯ | 0 | 0 | 0 | 0 | 0 | 0 | 0 | 0 | 0 | 20170919 |\n",
       "| 060014001001034 |  1 | 0 |  0 |  1 | 1 | 0 |  0 | 0 | 0 | ⋯ | 0 | 0 | 0 | 0 | 0 | 0 | 0 | 0 | 0 | 20170919 |\n",
       "\n"
      ],
      "text/plain": [
       "   w_geocode       c000 ca01 ca02 ca03 ce01 ce02 ce03 cns01 cns02 ⋯ cfa02 cfa03\n",
       "1  060014001001007 30   2    16   12   4    2    24   0     0     ⋯ 0     0    \n",
       "2  060014001001008  4   0     1    3   0    0     4   0     0     ⋯ 0     0    \n",
       "3  060014001001011  3   2     1    0   0    3     0   0     0     ⋯ 0     0    \n",
       "4  060014001001017 11   3     3    5   2    2     7   0     0     ⋯ 0     0    \n",
       "5  060014001001024 10   3     3    4   7    1     2   0     0     ⋯ 0     0    \n",
       "6  060014001001026  3   0     2    1   0    2     1   0     0     ⋯ 0     0    \n",
       "7  060014001001027 13   3     3    7   4    5     4   0     0     ⋯ 0     0    \n",
       "8  060014001001032 13   2     4    7   3    2     8   0     0     ⋯ 0     0    \n",
       "9  060014001001033  2   0     0    2   2    0     0   0     0     ⋯ 0     0    \n",
       "10 060014001001034  1   0     0    1   1    0     0   0     0     ⋯ 0     0    \n",
       "   cfa04 cfa05 cfs01 cfs02 cfs03 cfs04 cfs05 createdate\n",
       "1  0     0     0     0     0     0     0     20170919  \n",
       "2  0     0     0     0     0     0     0     20170919  \n",
       "3  0     0     0     0     0     0     0     20170919  \n",
       "4  0     0     0     0     0     0     0     20170919  \n",
       "5  0     0     0     0     0     0     0     20170919  \n",
       "6  0     0     0     0     0     0     0     20170919  \n",
       "7  0     0     0     0     0     0     0     20170919  \n",
       "8  0     0     0     0     0     0     0     20170919  \n",
       "9  0     0     0     0     0     0     0     20170919  \n",
       "10 0     0     0     0     0     0     0     20170919  "
      ]
     },
     "metadata": {},
     "output_type": "display_data"
    }
   ],
   "source": [
    "test_table <- dbGetQuery(con, 'SELECT * FROM ca_wac_2015 LIMIT 10')\n",
    "test_table"
   ]
  },
  {
   "cell_type": "markdown",
   "metadata": {},
   "source": [
    "### Using `dbplyr`"
   ]
  },
  {
   "cell_type": "code",
   "execution_count": 14,
   "metadata": {},
   "outputs": [],
   "source": [
    "ca_wac <- tbl(con, 'ca_wac_2015')"
   ]
  },
  {
   "cell_type": "code",
   "execution_count": 18,
   "metadata": {},
   "outputs": [
    {
     "data": {
      "text/plain": [
       "\u001b[38;5;246m# Source:   lazy query [?? x 53]\u001b[39m\n",
       "\u001b[38;5;246m# Database: sqlite 3.30.1 [/home/bkim/Documents/Projects/ada-intro-r/lodes.db]\u001b[39m\n",
       "  w_geocode  c000  ca01  ca02  ca03  ce01  ce02  ce03 cns01 cns02 cns03 cns04\n",
       "  \u001b[3m\u001b[38;5;246m<chr>\u001b[39m\u001b[23m     \u001b[3m\u001b[38;5;246m<int>\u001b[39m\u001b[23m \u001b[3m\u001b[38;5;246m<int>\u001b[39m\u001b[23m \u001b[3m\u001b[38;5;246m<int>\u001b[39m\u001b[23m \u001b[3m\u001b[38;5;246m<int>\u001b[39m\u001b[23m \u001b[3m\u001b[38;5;246m<int>\u001b[39m\u001b[23m \u001b[3m\u001b[38;5;246m<int>\u001b[39m\u001b[23m \u001b[3m\u001b[38;5;246m<int>\u001b[39m\u001b[23m \u001b[3m\u001b[38;5;246m<int>\u001b[39m\u001b[23m \u001b[3m\u001b[38;5;246m<int>\u001b[39m\u001b[23m \u001b[3m\u001b[38;5;246m<int>\u001b[39m\u001b[23m \u001b[3m\u001b[38;5;246m<int>\u001b[39m\u001b[23m\n",
       "\u001b[38;5;250m1\u001b[39m 06001400…    30     2    16    12     4     2    24     0     0     0     0\n",
       "\u001b[38;5;250m2\u001b[39m 06001400…     4     0     1     3     0     0     4     0     0     0     0\n",
       "\u001b[38;5;250m3\u001b[39m 06001400…     3     2     1     0     0     3     0     0     0     0     0\n",
       "\u001b[38;5;250m4\u001b[39m 06001400…    11     3     3     5     2     2     7     0     0     0     0\n",
       "\u001b[38;5;250m5\u001b[39m 06001400…    10     3     3     4     7     1     2     0     0     0     0\n",
       "\u001b[38;5;250m6\u001b[39m 06001400…     3     0     2     1     0     2     1     0     0     0     0\n",
       "\u001b[38;5;246m# … with 41 more variables: cns05 \u001b[3m\u001b[38;5;246m<int>\u001b[38;5;246m\u001b[23m, cns06 \u001b[3m\u001b[38;5;246m<int>\u001b[38;5;246m\u001b[23m, cns07 \u001b[3m\u001b[38;5;246m<int>\u001b[38;5;246m\u001b[23m, cns08 \u001b[3m\u001b[38;5;246m<int>\u001b[38;5;246m\u001b[23m,\n",
       "#   cns09 \u001b[3m\u001b[38;5;246m<int>\u001b[38;5;246m\u001b[23m, cns10 \u001b[3m\u001b[38;5;246m<int>\u001b[38;5;246m\u001b[23m, cns11 \u001b[3m\u001b[38;5;246m<int>\u001b[38;5;246m\u001b[23m, cns12 \u001b[3m\u001b[38;5;246m<int>\u001b[38;5;246m\u001b[23m, cns13 \u001b[3m\u001b[38;5;246m<int>\u001b[38;5;246m\u001b[23m,\n",
       "#   cns14 \u001b[3m\u001b[38;5;246m<int>\u001b[38;5;246m\u001b[23m, cns15 \u001b[3m\u001b[38;5;246m<int>\u001b[38;5;246m\u001b[23m, cns16 \u001b[3m\u001b[38;5;246m<int>\u001b[38;5;246m\u001b[23m, cns17 \u001b[3m\u001b[38;5;246m<int>\u001b[38;5;246m\u001b[23m, cns18 \u001b[3m\u001b[38;5;246m<int>\u001b[38;5;246m\u001b[23m,\n",
       "#   cns19 \u001b[3m\u001b[38;5;246m<int>\u001b[38;5;246m\u001b[23m, cns20 \u001b[3m\u001b[38;5;246m<int>\u001b[38;5;246m\u001b[23m, cr01 \u001b[3m\u001b[38;5;246m<int>\u001b[38;5;246m\u001b[23m, cr02 \u001b[3m\u001b[38;5;246m<int>\u001b[38;5;246m\u001b[23m, cr03 \u001b[3m\u001b[38;5;246m<int>\u001b[38;5;246m\u001b[23m, cr04 \u001b[3m\u001b[38;5;246m<int>\u001b[38;5;246m\u001b[23m,\n",
       "#   cr05 \u001b[3m\u001b[38;5;246m<int>\u001b[38;5;246m\u001b[23m, cr07 \u001b[3m\u001b[38;5;246m<int>\u001b[38;5;246m\u001b[23m, ct01 \u001b[3m\u001b[38;5;246m<int>\u001b[38;5;246m\u001b[23m, ct02 \u001b[3m\u001b[38;5;246m<int>\u001b[38;5;246m\u001b[23m, cd01 \u001b[3m\u001b[38;5;246m<int>\u001b[38;5;246m\u001b[23m, cd02 \u001b[3m\u001b[38;5;246m<int>\u001b[38;5;246m\u001b[23m,\n",
       "#   cd03 \u001b[3m\u001b[38;5;246m<int>\u001b[38;5;246m\u001b[23m, cd04 \u001b[3m\u001b[38;5;246m<int>\u001b[38;5;246m\u001b[23m, cs01 \u001b[3m\u001b[38;5;246m<int>\u001b[38;5;246m\u001b[23m, cs02 \u001b[3m\u001b[38;5;246m<int>\u001b[38;5;246m\u001b[23m, cfa01 \u001b[3m\u001b[38;5;246m<int>\u001b[38;5;246m\u001b[23m, cfa02 \u001b[3m\u001b[38;5;246m<int>\u001b[38;5;246m\u001b[23m,\n",
       "#   cfa03 \u001b[3m\u001b[38;5;246m<int>\u001b[38;5;246m\u001b[23m, cfa04 \u001b[3m\u001b[38;5;246m<int>\u001b[38;5;246m\u001b[23m, cfa05 \u001b[3m\u001b[38;5;246m<int>\u001b[38;5;246m\u001b[23m, cfs01 \u001b[3m\u001b[38;5;246m<int>\u001b[38;5;246m\u001b[23m, cfs02 \u001b[3m\u001b[38;5;246m<int>\u001b[38;5;246m\u001b[23m,\n",
       "#   cfs03 \u001b[3m\u001b[38;5;246m<int>\u001b[38;5;246m\u001b[23m, cfs04 \u001b[3m\u001b[38;5;246m<int>\u001b[38;5;246m\u001b[23m, cfs05 \u001b[3m\u001b[38;5;246m<int>\u001b[38;5;246m\u001b[23m, createdate \u001b[3m\u001b[38;5;246m<chr>\u001b[38;5;246m\u001b[23m\u001b[39m"
      ]
     },
     "metadata": {},
     "output_type": "display_data"
    }
   ],
   "source": [
    "head(ca_wac)"
   ]
  },
  {
   "cell_type": "code",
   "execution_count": null,
   "metadata": {},
   "outputs": [],
   "source": []
  }
 ],
 "metadata": {
  "kernelspec": {
   "display_name": "R",
   "language": "R",
   "name": "ir"
  },
  "language_info": {
   "codemirror_mode": "r",
   "file_extension": ".r",
   "mimetype": "text/x-r-source",
   "name": "R",
   "pygments_lexer": "r",
   "version": "3.6.1"
  }
 },
 "nbformat": 4,
 "nbformat_minor": 4
}
